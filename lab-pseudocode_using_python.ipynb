{
 "cells": [
  {
   "cell_type": "markdown",
   "metadata": {},
   "source": [
    "# LAB | Pseudocode Using Python\n",
    "\n",
    "## Overview\n",
    "\n",
    "This exercise will help you practice writing pseudocode and translating it into Python code. Pseudocode is a way to describe algorithms in a human-readable format, which can then be implemented in programming languages.\n",
    "\n"
   ]
  },
  {
   "cell_type": "markdown",
   "metadata": {},
   "source": [
    "### Exercise 1: Multiply Two Numbers\n",
    "\n",
    "Write a pseudocode to read two numbers and multiply them together. Then, write the equivalent Python code."
   ]
  },
  {
   "cell_type": "markdown",
   "metadata": {},
   "source": [
    "<!-- Add your pseudocode here -->"
   ]
  },
  {
   "cell_type": "code",
   "execution_count": 3,
   "metadata": {},
   "outputs": [
    {
     "name": "stdout",
     "output_type": "stream",
     "text": [
      "6\n"
     ]
    }
   ],
   "source": [
    "# Add your code solution here\n",
    "# BEGIN\n",
    "#     DISPLAY \"Please enter the first number to be multiplied\"\n",
    "#     SET user_input_1 = GET user input\n",
    "#     DISPLAY \"Please enter another number to be multiplied\"\n",
    "#     SET user_input_2 = GET user input\n",
    "#     product = user_input_1 * user_input_2\n",
    "#     DISPLAY \"The Product of those two numbers is: \" product\n",
    "# END\n",
    "\n",
    "user_input_1 = int(input(\"Please enter the first number to be multiplied\"))\n",
    "user_input_2 = int(input(\"Please enter another number to be multiplied\"))\n",
    "product = user_input_1 * user_input_2\n",
    "print(product)"
   ]
  },
  {
   "cell_type": "markdown",
   "metadata": {},
   "source": [
    "### Exercise 2: Check Even or Odd\n",
    "\n",
    "Write pseudocode that checks if a number is even or odd and prints the result. Then, write the equivalent Python code."
   ]
  },
  {
   "cell_type": "markdown",
   "metadata": {},
   "source": [
    "<!-- Add your pseudocode here -->"
   ]
  },
  {
   "cell_type": "code",
   "execution_count": 5,
   "metadata": {},
   "outputs": [
    {
     "name": "stdout",
     "output_type": "stream",
     "text": [
      "Number is odd\n"
     ]
    }
   ],
   "source": [
    "# Add your code solution here\n",
    "# BEGIN\n",
    "#     if number_to_check Modulo 2 is zero then\n",
    "#         DISPLAY \"Number is even\"\n",
    "#     else\n",
    "#         DISPLAY \"Number is odd\"\n",
    "# END\n",
    "\n",
    "number_to_check = 13\n",
    "if number_to_check % 2 == 0:\n",
    "    print(\"Number is even\")\n",
    "else:\n",
    "    print (\"Number is odd\")"
   ]
  },
  {
   "cell_type": "markdown",
   "metadata": {},
   "source": [
    "### Exercise 3: Sum of First N Natural Numbers\n",
    "\n",
    "Write pseudocode to calculate the sum of the first N natural numbers. Then, write the equivalent Python code."
   ]
  },
  {
   "cell_type": "markdown",
   "metadata": {},
   "source": [
    "<!-- Add your pseudocode here -->"
   ]
  },
  {
   "cell_type": "code",
   "execution_count": 8,
   "metadata": {},
   "outputs": [
    {
     "name": "stdout",
     "output_type": "stream",
     "text": [
      "6\n"
     ]
    }
   ],
   "source": [
    "# Add your code solution here\n",
    "# BEGIN\n",
    "#     DISPLAY \"Please enter a number\"\n",
    "#     user_input = convert Input to integer value\n",
    "#     initialize sum to\n",
    "#     FOR each number between 1 and user_input Do\n",
    "#         add number to sum\n",
    "#     end FOR\n",
    "# END\n",
    "\n",
    "user_input = int(input(\"Please enter a number\"))\n",
    "sum = 0\n",
    "for i in range(1, user_input + 1):\n",
    "    sum += i\n",
    "\n",
    "print(sum)"
   ]
  },
  {
   "cell_type": "markdown",
   "metadata": {},
   "source": [
    "### Exercise 4: Find Maximum of Three Numbers\n",
    "\n",
    "Write pseudocode that finds the maximum of three numbers entered by the user. Then, write the equivalent Python code."
   ]
  },
  {
   "cell_type": "markdown",
   "metadata": {},
   "source": [
    "<!-- Add your pseudocode here -->"
   ]
  },
  {
   "cell_type": "code",
   "execution_count": null,
   "metadata": {},
   "outputs": [
    {
     "name": "stdout",
     "output_type": "stream",
     "text": [
      "The biggest number was: 222\n"
     ]
    }
   ],
   "source": [
    "# Add your code solution here\n",
    "# BEGIN\n",
    "#     initialize max to first input number\n",
    "#     FOR each number entered:\n",
    "#         if number is bigger than max then\n",
    "#             SET max to number\n",
    "#     END FOR\n",
    "#     DISPLAY \"The biggest number was: \" max\n",
    "# END\n",
    "\n",
    "max = int(input(\"Please enter a number\"))\n",
    "\n",
    "for i in range(1,4):\n",
    "    input_number = int(input(\"Please enter a number\"))   \n",
    "\n",
    "    if input_number > max:\n",
    "        max = input_number\n",
    "\n",
    "print(\"The biggest number was: \" + str(max))"
   ]
  },
  {
   "cell_type": "markdown",
   "metadata": {},
   "source": [
    "### Exercise 5: Count Vowels in a String\n",
    "\n",
    "Write pseudocode to count the number of vowels in a given string and print the count. Then, write the equivalent Python code."
   ]
  },
  {
   "cell_type": "markdown",
   "metadata": {},
   "source": [
    "<!-- Add your pseudocode here -->"
   ]
  },
  {
   "cell_type": "code",
   "execution_count": null,
   "metadata": {},
   "outputs": [
    {
     "name": "stdout",
     "output_type": "stream",
     "text": [
      "3\n"
     ]
    }
   ],
   "source": [
    "# Add your code solution here\n",
    "'''\n",
    "BEGIN\n",
    "    Initialize list_of_vowels\n",
    "    Convert given_word to lowerCase \n",
    "    FOR each letter in given_word DO\n",
    "        if letter is in list_of_vowels then\n",
    "            increase Vowelcount by 1\n",
    "    END FOR\n",
    "    DISPLAY Vowelcount\n",
    "END\n",
    "'''\n",
    "given_word =\"Hello World\"\n",
    "list_of_vowels = [\"a\", \"e\", \"i\", \"o\", \"u\"]\n",
    "vowel_count = 0\n",
    "for letter in given_word.lower():\n",
    "    if letter in list_of_vowels:\n",
    "        vowel_count += 1\n",
    "        \n",
    "print(vowel_count)\n"
   ]
  },
  {
   "cell_type": "markdown",
   "metadata": {},
   "source": [
    "## Bonus Exercises\n",
    "\n",
    "### Bonus Exercise 6: Reverse a String\n",
    "\n",
    "Write pseudocode to reverse a given string and print it out."
   ]
  },
  {
   "cell_type": "markdown",
   "metadata": {},
   "source": [
    "<!-- Add your pseudocode here -->"
   ]
  },
  {
   "cell_type": "code",
   "execution_count": null,
   "metadata": {},
   "outputs": [],
   "source": [
    "# Add your code solution here\n",
    "'''\n",
    "BEGIN ReverseString(inputString)\n",
    "    SET reversedString TO empty string\n",
    "    FOR i FROM LENGTH of inputString - 1 DOWNTO 0\n",
    "        SET reversedString TO reversedString + inputString[i]\n",
    "    END FOR\n",
    "    DISPLAY reversedString\n",
    "END \n",
    "\n",
    "'''\n"
   ]
  },
  {
   "cell_type": "markdown",
   "metadata": {},
   "source": [
    "### Bonus Exercise 7: Print Multiplication Table of a Number\n",
    "\n",
    "Write pseudocode to print the multiplication table of a given number up to 10."
   ]
  },
  {
   "cell_type": "markdown",
   "metadata": {},
   "source": [
    "<!-- Add your pseudocode here -->"
   ]
  },
  {
   "cell_type": "code",
   "execution_count": null,
   "metadata": {},
   "outputs": [],
   "source": [
    "# Add your code solution here\n",
    "'''\n",
    "BEGIN \n",
    "    SET user_number = GET number from user\n",
    "\n",
    "    FOR i FROM 1 TO 10 DO\n",
    "        SET result = user_number * i\n",
    "        DISPLAY user_number + \" x \" + i + \" = \" + result\n",
    "    END FOR\n",
    "\n",
    "'''"
   ]
  },
  {
   "cell_type": "markdown",
   "metadata": {},
   "source": [
    "### Bonus Exercise 8: Count Words in a String\n",
    "\n",
    "Write pseudocode that counts the words in a given string and prints the result."
   ]
  },
  {
   "cell_type": "markdown",
   "metadata": {},
   "source": [
    "<!-- Add your pseudocode here -->"
   ]
  },
  {
   "cell_type": "code",
   "execution_count": null,
   "metadata": {},
   "outputs": [],
   "source": [
    "# Add your code solution here\n",
    "'''\n",
    "BEGIN\n",
    "    initialize given_string\n",
    "\n",
    "    SET array to SPLIT given_string by spacebar\n",
    "    SET word_count TO length of arry\n",
    "\n",
    "    DISPLAY \"Wordcount is: \" + word_count\n",
    "END\n",
    "'''"
   ]
  },
  {
   "cell_type": "markdown",
   "metadata": {},
   "source": [
    "### Bonus Exercise 9: Find Factorial of a Number\n",
    "\n",
    "Write pseudocode that calculates the factorial of a given positive integer."
   ]
  },
  {
   "cell_type": "markdown",
   "metadata": {},
   "source": [
    "<!-- Add your pseudocode here -->"
   ]
  },
  {
   "cell_type": "code",
   "execution_count": null,
   "metadata": {},
   "outputs": [],
   "source": [
    "# Add your code solution here\n",
    "'''\n",
    "BEGIN\n",
    "\n",
    "    initialize given_positive_number = GET positive number from user\n",
    "    initialize factorial to 1 \n",
    "    FOR i FROM 1 TO given_positive_number\n",
    "        SET factorial = i * factorial\n",
    "\n",
    "    DISPLAY factorial    \n",
    "END\n",
    "\n",
    "'''"
   ]
  },
  {
   "cell_type": "markdown",
   "metadata": {},
   "source": [
    "### Bonus Exercise 10: FizzBuzz Problem\n",
    "\n",
    "Write pseudocode for the FizzBuzz problem where you print numbers from 1 to N but replace multiples of three with \"Fizz\" and multiples of five with \"Buzz\"."
   ]
  },
  {
   "cell_type": "markdown",
   "metadata": {},
   "source": [
    "<!-- Add your pseudocode here -->"
   ]
  },
  {
   "cell_type": "code",
   "execution_count": null,
   "metadata": {},
   "outputs": [],
   "source": [
    "# Add your code solution here\n",
    "\n",
    "'''\n",
    "BEGIN\n",
    "    initialize given_positive_number = GET positive number from user\n",
    "    FOR i FROM 1 TO given_positive_number \n",
    "        TEST IF i is divisible by 3 AND  i is divisible by 5 THENTHEN\n",
    "            DISPLAY \"FIZZBUZZ\"\n",
    "        ELSE IF i is divisible by 3 THEN\n",
    "            DISPLAY \"FIZZ\"\n",
    "        ELSE IF i is divisible by 5 THEN\n",
    "            DISPLAY \"BUZZ\"\n",
    "        ELSE\n",
    "            DISPLAY i\n",
    "\n",
    "END\n",
    "\n",
    "'''"
   ]
  },
  {
   "cell_type": "code",
   "execution_count": null,
   "metadata": {},
   "outputs": [],
   "source": []
  }
 ],
 "metadata": {
  "kernelspec": {
   "display_name": "Python 3",
   "language": "python",
   "name": "python3"
  },
  "language_info": {
   "codemirror_mode": {
    "name": "ipython",
    "version": 3
   },
   "file_extension": ".py",
   "mimetype": "text/x-python",
   "name": "python",
   "nbconvert_exporter": "python",
   "pygments_lexer": "ipython3",
   "version": "3.13.3"
  }
 },
 "nbformat": 4,
 "nbformat_minor": 2
}
